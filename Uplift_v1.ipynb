{
 "cells": [
  {
   "cell_type": "markdown",
   "id": "united-wyoming",
   "metadata": {},
   "source": [
    "# **Uplift Modeling**\n",
    "\n",
    "*by Milara*\n",
    "\n",
    "*September 2021*\n",
    "\n",
    "**Introduction:**\n",
    "+ One of the main applications of the Machine Learning models is to improve the **Targeted Marketing**. The Targeted Marketing is used to select the customers that most likely buy a product.\n",
    "+ There are different approaches for Targeted Marketing such as the **Classical modeling** (also known as Response model). This approach is focused in training a model with customers that were sent a promotion/offer. The model separates the customers that will buy from the ones that will not buy if targeted. **This approach generates higher profit than random selection targeting.** \n",
    "+ Nonetheless, the Classical modeling has a flaw. It does not separate customers that will buy even if not targeted from the ones that will only buy if targeted. In other words, the model wastes money by targeting customers that do not need it. The current solution to that issue is the Uplift modeling.\n",
    "+ The **Uplift modeling** can separate customers that will buy if not targeted from the ones that will buy only if targeted, as well as avoiding customers that will not buy even if targeted. **Specifically, the model identifies the customers that are worth spending money on Targeted Marketing.** \n",
    "+ This approach can also be related to the **Churn problem**, in which the goal is to avoid losing customers. It is related because it requires to send an offer to persuade the customer that the product still provide value. Therefore, it is important to send an offer to the customers that are more likely to stay if targeted. \n",
    "+ **This notebook elaborates these two approaches for Targeted Marketing using a dataset with 13 million instances provided by Criteo (French advertising company)**.\n",
    "\n",
    "\n",
    "**Objectives**\n",
    "+ To show the Classical and Uplift modeling in Targeted Marketing\n",
    "\n",
    "**Content**\n",
    "+ [Problem understanding](#Problem-understanding)\n",
    "+ [Data understanding](#Data-understanding)\n",
    "    + [Basic EDA](#Basic-EDA)\n",
    "    + [Imbalance](#Imbalance)\n",
    "    + [Results of the treatments](#Results-of-the-treatments)\n",
    "    + [Data preparation](#Data-preparation)\n",
    "+ [Classical modeling](#Classical-Modeling)\n",
    "    + [CM: Data preparation](#CM:-Data-preparation)\n",
    "    + [CM: Data split](#CM:-Data-split)\n",
    "    + [CM: Resampling](#CM:-Resampling)\n",
    "    + [CM: Modeling](#CM:-Modeling)\n",
    "    + [CM: Profit/Cost of the results](#CM:-Profit/Cost-of-the-results)\n",
    "    + [CM: Profit/Cost curve](#CM:-Profit/Cost-curve)\n",
    "    + [CM: Summary](#CM:-Summary)\n",
    "+ [Uplift modeling](#Uplift-modeling)\n",
    "    + [UM: Brief explanation](#UM:-Brief-explanation)\n",
    "    + [UM: Data split](#UM:-Data-split)\n",
    "    + [UM: Resampling](#UM:-Resampling)\n",
    "    + [UM: Modeling](#UM:-Modeling)\n",
    "    + [UM: Cumulative uplift curve](#UM:-Cumulative-uplift-curve)\n",
    "    + [UM: Summary](#UM:-Summary)\n",
    "+ [Conclusion](#Conclusion_)\n",
    "+ [To try](#To-try)\n",
    "+ [References](#References)\n"
   ]
  },
  {
   "cell_type": "markdown",
   "id": "special-louisiana",
   "metadata": {
    "tags": []
   },
   "source": [
    "## **Problem understanding**\n",
    "\n",
    "+ The data was obtained from Kaggle **\"Uplift Modeling, Marketing and Campaing Data\" provided by AI lab of Criteo** (French advertising company that provides online display adverstisements). **The data contains 13 million instances from a randomized control trial collected in two weeks**, where 84.6% of the users where sent the treatment **[1]**. \n",
    "+ Each instance has 12 features that were anonymized plus a treatment variable and two target variables (visits and conversion). There is another extra variable called \"exposure\" which indicates whether the user was effectively exposed to the treatment.\n",
    "+ As mentioned before, there are two target variables (visits and conversion), **this notebook will only focus on the conversion variable**. Which can be understood as the indicator whether the user bought the product. \n",
    "+ **The goal is to generate a model that can identify users that are more likely to convert (or buy the product) and avoid the ones that are not.**\n",
    "+ Before the modeling approaches, it is necessary to select the data that is useful for the models. \n",
    "+ For the sake of simplicity two models will be used in this notebook. The models are Logistic Regression and XGBoost. The first model is selected because it is normally used as the baseline. And, the second model is selected because it is known that can provide pretty good results but it is complex, it requires more resources to train, more hyperparameter fine-tunning and it is not easy interpretable. "
   ]
  },
  {
   "cell_type": "markdown",
   "id": "communist-refrigerator",
   "metadata": {
    "tags": []
   },
   "source": [
    "## **Data understanding**"
   ]
  },
  {
   "cell_type": "code",
   "execution_count": 391,
   "id": "german-calcium",
   "metadata": {},
   "outputs": [],
   "source": [
    "#import libraries\n",
    "import numpy as np \n",
    "import pandas as pd \n",
    "import matplotlib.pyplot as plt\n",
    "import seaborn as sns\n",
    "\n",
    "#Read the dataset\n",
    "df = pd.read_csv(\"C:/Users/Milara/Desktop/Practice_Jupyter/criteo-uplift-v2.1.csv\")"
   ]
  },
  {
   "cell_type": "markdown",
   "id": "brown-terrain",
   "metadata": {},
   "source": [
    "### **Basic EDA**"
   ]
  },
  {
   "cell_type": "code",
   "execution_count": 392,
   "id": "narrative-wrist",
   "metadata": {},
   "outputs": [
    {
     "data": {
      "text/plain": [
       "Index(['f0', 'f1', 'f2', 'f3', 'f4', 'f5', 'f6', 'f7', 'f8', 'f9', 'f10',\n",
       "       'f11', 'treatment', 'conversion', 'visit', 'exposure'],\n",
       "      dtype='object')"
      ]
     },
     "execution_count": 392,
     "metadata": {},
     "output_type": "execute_result"
    }
   ],
   "source": [
    "#Show the columns\n",
    "df.columns"
   ]
  },
  {
   "cell_type": "markdown",
   "id": "appreciated-deviation",
   "metadata": {},
   "source": [
    "There are 12 features and 4 variables with information about the treatments and targets"
   ]
  },
  {
   "cell_type": "code",
   "execution_count": 393,
   "id": "rational-cosmetic",
   "metadata": {},
   "outputs": [
    {
     "data": {
      "text/plain": [
       "f0            0\n",
       "f1            0\n",
       "f2            0\n",
       "f3            0\n",
       "f4            0\n",
       "f5            0\n",
       "f6            0\n",
       "f7            0\n",
       "f8            0\n",
       "f9            0\n",
       "f10           0\n",
       "f11           0\n",
       "treatment     0\n",
       "conversion    0\n",
       "visit         0\n",
       "exposure      0\n",
       "dtype: int64"
      ]
     },
     "execution_count": 393,
     "metadata": {},
     "output_type": "execute_result"
    }
   ],
   "source": [
    "#Check for null values\n",
    "df.isnull().sum()"
   ]
  },
  {
   "cell_type": "markdown",
   "id": "swiss-finger",
   "metadata": {},
   "source": [
    "There are no null values"
   ]
  },
  {
   "cell_type": "markdown",
   "id": "military-lindsay",
   "metadata": {},
   "source": [
    "#### **Uni-variate analysis**"
   ]
  },
  {
   "cell_type": "code",
   "execution_count": 394,
   "id": "color-bernard",
   "metadata": {},
   "outputs": [
    {
     "data": {
      "text/html": [
       "<div>\n",
       "<style scoped>\n",
       "    .dataframe tbody tr th:only-of-type {\n",
       "        vertical-align: middle;\n",
       "    }\n",
       "\n",
       "    .dataframe tbody tr th {\n",
       "        vertical-align: top;\n",
       "    }\n",
       "\n",
       "    .dataframe thead th {\n",
       "        text-align: right;\n",
       "    }\n",
       "</style>\n",
       "<table border=\"1\" class=\"dataframe\">\n",
       "  <thead>\n",
       "    <tr style=\"text-align: right;\">\n",
       "      <th></th>\n",
       "      <th>f0</th>\n",
       "      <th>f1</th>\n",
       "      <th>f2</th>\n",
       "      <th>f3</th>\n",
       "      <th>f4</th>\n",
       "      <th>f5</th>\n",
       "      <th>f6</th>\n",
       "      <th>f7</th>\n",
       "      <th>f8</th>\n",
       "      <th>f9</th>\n",
       "      <th>f10</th>\n",
       "      <th>f11</th>\n",
       "      <th>treatment</th>\n",
       "      <th>conversion</th>\n",
       "      <th>visit</th>\n",
       "      <th>exposure</th>\n",
       "    </tr>\n",
       "  </thead>\n",
       "  <tbody>\n",
       "    <tr>\n",
       "      <th>count</th>\n",
       "      <td>1.397959e+07</td>\n",
       "      <td>1.397959e+07</td>\n",
       "      <td>1.397959e+07</td>\n",
       "      <td>1.397959e+07</td>\n",
       "      <td>1.397959e+07</td>\n",
       "      <td>1.397959e+07</td>\n",
       "      <td>1.397959e+07</td>\n",
       "      <td>1.397959e+07</td>\n",
       "      <td>1.397959e+07</td>\n",
       "      <td>1.397959e+07</td>\n",
       "      <td>1.397959e+07</td>\n",
       "      <td>1.397959e+07</td>\n",
       "      <td>1.397959e+07</td>\n",
       "      <td>1.397959e+07</td>\n",
       "      <td>1.397959e+07</td>\n",
       "      <td>1.397959e+07</td>\n",
       "    </tr>\n",
       "    <tr>\n",
       "      <th>mean</th>\n",
       "      <td>1.962030e+01</td>\n",
       "      <td>1.006998e+01</td>\n",
       "      <td>8.446582e+00</td>\n",
       "      <td>4.178923e+00</td>\n",
       "      <td>1.033884e+01</td>\n",
       "      <td>4.028513e+00</td>\n",
       "      <td>-4.155356e+00</td>\n",
       "      <td>5.101765e+00</td>\n",
       "      <td>3.933581e+00</td>\n",
       "      <td>1.602764e+01</td>\n",
       "      <td>5.333396e+00</td>\n",
       "      <td>-1.709672e-01</td>\n",
       "      <td>8.500001e-01</td>\n",
       "      <td>2.916680e-03</td>\n",
       "      <td>4.699200e-02</td>\n",
       "      <td>3.063122e-02</td>\n",
       "    </tr>\n",
       "    <tr>\n",
       "      <th>std</th>\n",
       "      <td>5.377464e+00</td>\n",
       "      <td>1.047557e-01</td>\n",
       "      <td>2.993161e-01</td>\n",
       "      <td>1.336645e+00</td>\n",
       "      <td>3.433081e-01</td>\n",
       "      <td>4.310974e-01</td>\n",
       "      <td>4.577914e+00</td>\n",
       "      <td>1.205248e+00</td>\n",
       "      <td>5.665958e-02</td>\n",
       "      <td>7.018975e+00</td>\n",
       "      <td>1.682288e-01</td>\n",
       "      <td>2.283277e-02</td>\n",
       "      <td>3.570713e-01</td>\n",
       "      <td>5.392748e-02</td>\n",
       "      <td>2.116217e-01</td>\n",
       "      <td>1.723164e-01</td>\n",
       "    </tr>\n",
       "    <tr>\n",
       "      <th>min</th>\n",
       "      <td>1.261636e+01</td>\n",
       "      <td>1.005965e+01</td>\n",
       "      <td>8.214383e+00</td>\n",
       "      <td>-8.398387e+00</td>\n",
       "      <td>1.028053e+01</td>\n",
       "      <td>-9.011892e+00</td>\n",
       "      <td>-3.142978e+01</td>\n",
       "      <td>4.833815e+00</td>\n",
       "      <td>3.635107e+00</td>\n",
       "      <td>1.319006e+01</td>\n",
       "      <td>5.300375e+00</td>\n",
       "      <td>-1.383941e+00</td>\n",
       "      <td>0.000000e+00</td>\n",
       "      <td>0.000000e+00</td>\n",
       "      <td>0.000000e+00</td>\n",
       "      <td>0.000000e+00</td>\n",
       "    </tr>\n",
       "    <tr>\n",
       "      <th>25%</th>\n",
       "      <td>1.261636e+01</td>\n",
       "      <td>1.005965e+01</td>\n",
       "      <td>8.214383e+00</td>\n",
       "      <td>4.679882e+00</td>\n",
       "      <td>1.028053e+01</td>\n",
       "      <td>4.115453e+00</td>\n",
       "      <td>-6.699321e+00</td>\n",
       "      <td>4.833815e+00</td>\n",
       "      <td>3.910792e+00</td>\n",
       "      <td>1.319006e+01</td>\n",
       "      <td>5.300375e+00</td>\n",
       "      <td>-1.686792e-01</td>\n",
       "      <td>1.000000e+00</td>\n",
       "      <td>0.000000e+00</td>\n",
       "      <td>0.000000e+00</td>\n",
       "      <td>0.000000e+00</td>\n",
       "    </tr>\n",
       "    <tr>\n",
       "      <th>50%</th>\n",
       "      <td>2.192341e+01</td>\n",
       "      <td>1.005965e+01</td>\n",
       "      <td>8.214383e+00</td>\n",
       "      <td>4.679882e+00</td>\n",
       "      <td>1.028053e+01</td>\n",
       "      <td>4.115453e+00</td>\n",
       "      <td>-2.411115e+00</td>\n",
       "      <td>4.833815e+00</td>\n",
       "      <td>3.971858e+00</td>\n",
       "      <td>1.319006e+01</td>\n",
       "      <td>5.300375e+00</td>\n",
       "      <td>-1.686792e-01</td>\n",
       "      <td>1.000000e+00</td>\n",
       "      <td>0.000000e+00</td>\n",
       "      <td>0.000000e+00</td>\n",
       "      <td>0.000000e+00</td>\n",
       "    </tr>\n",
       "    <tr>\n",
       "      <th>75%</th>\n",
       "      <td>2.443646e+01</td>\n",
       "      <td>1.005965e+01</td>\n",
       "      <td>8.723335e+00</td>\n",
       "      <td>4.679882e+00</td>\n",
       "      <td>1.028053e+01</td>\n",
       "      <td>4.115453e+00</td>\n",
       "      <td>2.944427e-01</td>\n",
       "      <td>4.833815e+00</td>\n",
       "      <td>3.971858e+00</td>\n",
       "      <td>1.319006e+01</td>\n",
       "      <td>5.300375e+00</td>\n",
       "      <td>-1.686792e-01</td>\n",
       "      <td>1.000000e+00</td>\n",
       "      <td>0.000000e+00</td>\n",
       "      <td>0.000000e+00</td>\n",
       "      <td>0.000000e+00</td>\n",
       "    </tr>\n",
       "    <tr>\n",
       "      <th>max</th>\n",
       "      <td>2.674526e+01</td>\n",
       "      <td>1.634419e+01</td>\n",
       "      <td>9.051962e+00</td>\n",
       "      <td>4.679882e+00</td>\n",
       "      <td>2.112351e+01</td>\n",
       "      <td>4.115453e+00</td>\n",
       "      <td>2.944427e-01</td>\n",
       "      <td>1.199840e+01</td>\n",
       "      <td>3.971858e+00</td>\n",
       "      <td>7.529502e+01</td>\n",
       "      <td>6.473917e+00</td>\n",
       "      <td>-1.686792e-01</td>\n",
       "      <td>1.000000e+00</td>\n",
       "      <td>1.000000e+00</td>\n",
       "      <td>1.000000e+00</td>\n",
       "      <td>1.000000e+00</td>\n",
       "    </tr>\n",
       "  </tbody>\n",
       "</table>\n",
       "</div>"
      ],
      "text/plain": [
       "                 f0            f1            f2            f3            f4  \\\n",
       "count  1.397959e+07  1.397959e+07  1.397959e+07  1.397959e+07  1.397959e+07   \n",
       "mean   1.962030e+01  1.006998e+01  8.446582e+00  4.178923e+00  1.033884e+01   \n",
       "std    5.377464e+00  1.047557e-01  2.993161e-01  1.336645e+00  3.433081e-01   \n",
       "min    1.261636e+01  1.005965e+01  8.214383e+00 -8.398387e+00  1.028053e+01   \n",
       "25%    1.261636e+01  1.005965e+01  8.214383e+00  4.679882e+00  1.028053e+01   \n",
       "50%    2.192341e+01  1.005965e+01  8.214383e+00  4.679882e+00  1.028053e+01   \n",
       "75%    2.443646e+01  1.005965e+01  8.723335e+00  4.679882e+00  1.028053e+01   \n",
       "max    2.674526e+01  1.634419e+01  9.051962e+00  4.679882e+00  2.112351e+01   \n",
       "\n",
       "                 f5            f6            f7            f8            f9  \\\n",
       "count  1.397959e+07  1.397959e+07  1.397959e+07  1.397959e+07  1.397959e+07   \n",
       "mean   4.028513e+00 -4.155356e+00  5.101765e+00  3.933581e+00  1.602764e+01   \n",
       "std    4.310974e-01  4.577914e+00  1.205248e+00  5.665958e-02  7.018975e+00   \n",
       "min   -9.011892e+00 -3.142978e+01  4.833815e+00  3.635107e+00  1.319006e+01   \n",
       "25%    4.115453e+00 -6.699321e+00  4.833815e+00  3.910792e+00  1.319006e+01   \n",
       "50%    4.115453e+00 -2.411115e+00  4.833815e+00  3.971858e+00  1.319006e+01   \n",
       "75%    4.115453e+00  2.944427e-01  4.833815e+00  3.971858e+00  1.319006e+01   \n",
       "max    4.115453e+00  2.944427e-01  1.199840e+01  3.971858e+00  7.529502e+01   \n",
       "\n",
       "                f10           f11     treatment    conversion         visit  \\\n",
       "count  1.397959e+07  1.397959e+07  1.397959e+07  1.397959e+07  1.397959e+07   \n",
       "mean   5.333396e+00 -1.709672e-01  8.500001e-01  2.916680e-03  4.699200e-02   \n",
       "std    1.682288e-01  2.283277e-02  3.570713e-01  5.392748e-02  2.116217e-01   \n",
       "min    5.300375e+00 -1.383941e+00  0.000000e+00  0.000000e+00  0.000000e+00   \n",
       "25%    5.300375e+00 -1.686792e-01  1.000000e+00  0.000000e+00  0.000000e+00   \n",
       "50%    5.300375e+00 -1.686792e-01  1.000000e+00  0.000000e+00  0.000000e+00   \n",
       "75%    5.300375e+00 -1.686792e-01  1.000000e+00  0.000000e+00  0.000000e+00   \n",
       "max    6.473917e+00 -1.686792e-01  1.000000e+00  1.000000e+00  1.000000e+00   \n",
       "\n",
       "           exposure  \n",
       "count  1.397959e+07  \n",
       "mean   3.063122e-02  \n",
       "std    1.723164e-01  \n",
       "min    0.000000e+00  \n",
       "25%    0.000000e+00  \n",
       "50%    0.000000e+00  \n",
       "75%    0.000000e+00  \n",
       "max    1.000000e+00  "
      ]
     },
     "execution_count": 394,
     "metadata": {},
     "output_type": "execute_result"
    }
   ],
   "source": [
    "#Quick stats of the variables\n",
    "df.describe()"
   ]
  },
  {
   "cell_type": "markdown",
   "id": "closing-bleeding",
   "metadata": {},
   "source": [
    "The variables have 13M instances each. The stats values of the features seems to be similar. To have a better picture a boxplot is shown below."
   ]
  },
  {
   "cell_type": "code",
   "execution_count": 395,
   "id": "brutal-coral",
   "metadata": {},
   "outputs": [
    {
     "data": {
      "text/plain": [
       "<AxesSubplot:>"
      ]
     },
     "execution_count": 395,
     "metadata": {},
     "output_type": "execute_result"
    },
    {
     "data": {
      "image/png": "[encoded data removed]",
      "text/plain": [
       "<Figure size 720x432 with 1 Axes>"
      ]
     },
     "metadata": {
      "needs_background": "light"
     },
     "output_type": "display_data"
    }
   ],
   "source": [
    "#Boxplots of the features\n",
    "df.drop(['treatment','conversion','visit','exposure'], axis = 1).plot.box(figsize=(10,6))"
   ]
  },
  {
   "cell_type": "markdown",
   "id": "tight-there",
   "metadata": {},
   "source": [
    "The plot shows the following:\n",
    "+ The range of the features is different. \n",
    "+ Only features f0 and f2 have no outliers.\n",
    "+ The features that have the largest outliers are f6 and f9. \n",
    "+ The features with large outliers have them only on one side of the distribution. \n",
    "+ Some features such as f3, f4 and f5 seem to have a positive skeweness, while f0, f1, f4, f7 and f9 seem to have negative skewness."
   ]
  },
  {
   "cell_type": "markdown",
   "id": "dimensional-material",
   "metadata": {},
   "source": [
    "#### **Multi-variate analysis**"
   ]
  },
  {
   "cell_type": "code",
   "execution_count": 396,
   "id": "refined-haven",
   "metadata": {},
   "outputs": [
    {
     "data": {
      "text/plain": [
       "<AxesSubplot:title={'center':'Pearson Correlation Matrix'}>"
      ]
     },
     "execution_count": 396,
     "metadata": {},
     "output_type": "execute_result"
    },
    {
     "data": {
      "image/png": "[encoded data removed]",
      "text/plain": [
       "<Figure size 936x576 with 2 Axes>"
      ]
     },
     "metadata": {
      "needs_background": "light"
     },
     "output_type": "display_data"
    }
   ],
   "source": [
    "#Correlation Matrix\n",
    "f, ax = plt.subplots(figsize=(13, 8))\n",
    "plt.title('Pearson Correlation Matrix',fontsize=25)\n",
    "\n",
    "corr = df.corr()\n",
    "\n",
    "mask = np.zeros_like(corr, dtype=np.bool) \n",
    "mask[np.triu_indices_from(mask)] = True \n",
    "\n",
    "sns.heatmap(corr, annot=True, mask = mask)"
   ]
  },
  {
   "cell_type": "markdown",
   "id": "miniature-dominant",
   "metadata": {},
   "source": [
    "There are some variables with strong correlation that should be addressed to avoid repetition of information."
   ]
  },
  {
   "cell_type": "markdown",
   "id": "proprietary-action",
   "metadata": {},
   "source": [
    "**In summary:**\n",
    "+ There are 12 features and 2 variables for treatment and 2 variables for target\n",
    "+ There are no null values in the 13M users\n",
    "+ The features have outliers, positive and negative skweness and different range of values\n",
    "+ Some of the features have a strong correlation between them\n",
    "    + There were no features with an absolute score correlation above 0.31 for conversion\n",
    "    + There were two feautures with an absolute score correlation above 0.31 for visit\n",
    "+ **It seems that feature engineering should be performed to:**\n",
    "    + Reduce/remove the outliers\n",
    "    + Correct the skewness of some features\n",
    "    + Remove variables with strong correlation\n",
    "    + Scale the values to have the same range for the sake of the models\n",
    "    \n",
    "+ However, the feature engineering will be reduced to only scaling of the values. A large feature engineering is out of the scope of the notebook. But it will be intersting to apply a complete feature engineering to improve the performance of the models."
   ]
  },
  {
   "cell_type": "markdown",
   "id": "structural-mercy",
   "metadata": {},
   "source": [
    "### **Imbalance**\n",
    "\n",
    "The data is highly imbalanced in four features: treatment, exposure, visits and conversion."
   ]
  },
  {
   "cell_type": "code",
   "execution_count": 397,
   "id": "stainless-profession",
   "metadata": {},
   "outputs": [
    {
     "name": "stdout",
     "output_type": "stream",
     "text": [
      "1    0.85\n",
      "0    0.15\n",
      "Name: treatment, dtype: float64\n"
     ]
    },
    {
     "data": {
      "image/png": "[encoded data removed]",
      "text/plain": [
       "<Figure size 432x288 with 1 Axes>"
      ]
     },
     "metadata": {
      "needs_background": "light"
     },
     "output_type": "display_data"
    }
   ],
   "source": [
    "#Show the proportion of treatment\n",
    "sns.countplot(x='treatment', data=df)\n",
    "print(df['treatment'].value_counts(normalize = True))"
   ]
  },
  {
   "cell_type": "code",
   "execution_count": 398,
   "id": "lasting-carpet",
   "metadata": {},
   "outputs": [
    {
     "name": "stdout",
     "output_type": "stream",
     "text": [
      "0    0.969369\n",
      "1    0.030631\n",
      "Name: exposure, dtype: float64\n"
     ]
    },
    {
     "data": {
      "image/png": "[encoded data removed]",
      "text/plain": [
       "<Figure size 432x288 with 1 Axes>"
      ]
     },
     "metadata": {
      "needs_background": "light"
     },
     "output_type": "display_data"
    }
   ],
   "source": [
    "#Proportion of full exposure to the treatment\n",
    "sns.countplot(x='exposure', data=df)\n",
    "print(df['exposure'].value_counts(normalize = True))"
   ]
  },
  {
   "cell_type": "code",
   "execution_count": 399,
   "id": "sticky-livestock",
   "metadata": {},
   "outputs": [
    {
     "name": "stdout",
     "output_type": "stream",
     "text": [
      "0    0.997083\n",
      "1    0.002917\n",
      "Name: conversion, dtype: float64\n"
     ]
    },
    {
     "data": {
      "image/png": "[encoded data removed]",
      "text/plain": [
       "<Figure size 432x288 with 1 Axes>"
      ]
     },
     "metadata": {
      "needs_background": "light"
     },
     "output_type": "display_data"
    }
   ],
   "source": [
    "#Proportion of conversion\n",
    "sns.countplot(x='conversion', data=df)\n",
    "print(df['conversion'].value_counts(normalize = True))"
   ]
  },
  {
   "cell_type": "code",
   "execution_count": 400,
   "id": "second-church",
   "metadata": {},
   "outputs": [
    {
     "name": "stdout",
     "output_type": "stream",
     "text": [
      "0    0.953008\n",
      "1    0.046992\n",
      "Name: visit, dtype: float64\n"
     ]
    },
    {
     "data": {
      "image/png": "[encoded data removed]",
      "text/plain": [
       "<Figure size 432x288 with 1 Axes>"
      ]
     },
     "metadata": {
      "needs_background": "light"
     },
     "output_type": "display_data"
    }
   ],
   "source": [
    "#Proportion of visits\n",
    "sns.countplot(x='visit', data=df)\n",
    "print(df['visit'].value_counts(normalize = True))"
   ]
  },
  {
   "cell_type": "markdown",
   "id": "sound-panama",
   "metadata": {},
   "source": [
    "The summary of the rounded percentages is: \n",
    "+ The percetanges of **treatment** are: 85% with treatment and 15% without treatment\n",
    "+ The percetanges of **exposure** are: 3% with exposure and 97% without exposure\n",
    "+ The percentages of **conversion** are: 0.2% with conversion and 99% without conversion\n",
    "+ The percentages of **visits** are: 5% with conversion and 95% without conversion\n"
   ]
  },
  {
   "cell_type": "markdown",
   "id": "falling-poker",
   "metadata": {},
   "source": [
    "### **Results of the treatments**\n",
    "\n",
    "Before moving on to the modeling stage it is highly important to determine if the randomized control trial provided a positive impact to the company. If the results generated a positive impact, then the modeling stage can be done but if the results were negative then there is no point of moving to the modeling stage. Thereby, the following analysis is intended to show the impact of the treatments on the conversions and visits. **In other words, to check if the treatment was useful or not.**\n",
    "\n",
    "#### **Conversions**\n",
    "As the goal is the conversion of the users, then how the conversion is related to the treatment and exposure?"
   ]
  },
  {
   "cell_type": "code",
   "execution_count": 401,
   "id": "funky-christmas",
   "metadata": {},
   "outputs": [
    {
     "name": "stdout",
     "output_type": "stream",
     "text": [
      "                   conversion                 \n",
      "                         mean    sum     count\n",
      "treatment exposure                            \n",
      "0         0          0.001938   4063   2096937\n",
      "1         0          0.001194  13680  11454443\n",
      "          1          0.053784  23031    428212\n"
     ]
    }
   ],
   "source": [
    "#Given the treatment and exposure how is the conversion?\n",
    "table_conv = df.groupby(['treatment','exposure']).agg({'conversion':['mean','sum','count']})\n",
    "print(table_conv)"
   ]
  },
  {
   "cell_type": "markdown",
   "id": "advisory-crown",
   "metadata": {},
   "source": [
    "From the table of above, it can be seen the following:\n",
    "+ The percentage of users who were not given the treatment (nor fully exposed) and converted is 0.19%.\n",
    "+ The percentage of users who were given the treatment but were not fully exposed and converted is 0.12%\n",
    "+ The percentage of users who were given the treatment and fully exposed and converted is 5.38%\n",
    "**It seems that it is only worth giving the full exposure instead of giving it partially.**"
   ]
  },
  {
   "cell_type": "markdown",
   "id": "young-straight",
   "metadata": {},
   "source": [
    "#### **Visits**\n",
    "\n",
    "If the visits were the goal, how are they related to the treatment and exposure?"
   ]
  },
  {
   "cell_type": "code",
   "execution_count": 402,
   "id": "dangerous-toddler",
   "metadata": {},
   "outputs": [
    {
     "name": "stdout",
     "output_type": "stream",
     "text": [
      "                       visit                  \n",
      "                        mean     sum     count\n",
      "treatment exposure                            \n",
      "0         0         0.038201   80105   2096937\n",
      "1         0         0.034861  399314  11454443\n",
      "          1         0.414538  177510    428212\n"
     ]
    }
   ],
   "source": [
    "#Given the treatment and exposure, how is the visits?\n",
    "table_vis = df.groupby(['treatment','exposure']).agg({'visit':['mean','sum','count']})\n",
    "print(table_vis)"
   ]
  },
  {
   "cell_type": "markdown",
   "id": "little-basic",
   "metadata": {},
   "source": [
    "The table above shows following:\n",
    "+ The percentage of users who were not given the treatment (nor exposed) and visited is 3.82%\n",
    "+ The percentage of users who were given the treatment but not fully exposed and visited is 3.49%\n",
    "+ The percentage of users who were given the full treatment and visited is 41.45%\n",
    "\n",
    "**It can be seen similar behavior as in conversion, it seems that only giving the full treatment and avoiding sending the partial treatment yield better results.**"
   ]
  },
  {
   "cell_type": "markdown",
   "id": "precise-tension",
   "metadata": {},
   "source": [
    "#### **Bonus: How do the treatment, exposure and visit impact the conversion?**"
   ]
  },
  {
   "cell_type": "code",
   "execution_count": 403,
   "id": "violent-texas",
   "metadata": {},
   "outputs": [
    {
     "data": {
      "text/html": [
       "<div>\n",
       "<style scoped>\n",
       "    .dataframe tbody tr th:only-of-type {\n",
       "        vertical-align: middle;\n",
       "    }\n",
       "\n",
       "    .dataframe tbody tr th {\n",
       "        vertical-align: top;\n",
       "    }\n",
       "\n",
       "    .dataframe thead tr th {\n",
       "        text-align: left;\n",
       "    }\n",
       "\n",
       "    .dataframe thead tr:last-of-type th {\n",
       "        text-align: right;\n",
       "    }\n",
       "</style>\n",
       "<table border=\"1\" class=\"dataframe\">\n",
       "  <thead>\n",
       "    <tr>\n",
       "      <th></th>\n",
       "      <th></th>\n",
       "      <th></th>\n",
       "      <th colspan=\"3\" halign=\"left\">conversion</th>\n",
       "    </tr>\n",
       "    <tr>\n",
       "      <th></th>\n",
       "      <th></th>\n",
       "      <th></th>\n",
       "      <th>mean</th>\n",
       "      <th>sum</th>\n",
       "      <th>count</th>\n",
       "    </tr>\n",
       "    <tr>\n",
       "      <th>treatment</th>\n",
       "      <th>exposure</th>\n",
       "      <th>visit</th>\n",
       "      <th></th>\n",
       "      <th></th>\n",
       "      <th></th>\n",
       "    </tr>\n",
       "  </thead>\n",
       "  <tbody>\n",
       "    <tr>\n",
       "      <th rowspan=\"2\" valign=\"top\">0</th>\n",
       "      <th rowspan=\"2\" valign=\"top\">0</th>\n",
       "      <th>0</th>\n",
       "      <td>0.000000</td>\n",
       "      <td>0</td>\n",
       "      <td>2016832</td>\n",
       "    </tr>\n",
       "    <tr>\n",
       "      <th>1</th>\n",
       "      <td>0.050721</td>\n",
       "      <td>4063</td>\n",
       "      <td>80105</td>\n",
       "    </tr>\n",
       "    <tr>\n",
       "      <th rowspan=\"4\" valign=\"top\">1</th>\n",
       "      <th rowspan=\"2\" valign=\"top\">0</th>\n",
       "      <th>0</th>\n",
       "      <td>0.000000</td>\n",
       "      <td>0</td>\n",
       "      <td>11055129</td>\n",
       "    </tr>\n",
       "    <tr>\n",
       "      <th>1</th>\n",
       "      <td>0.034259</td>\n",
       "      <td>13680</td>\n",
       "      <td>399314</td>\n",
       "    </tr>\n",
       "    <tr>\n",
       "      <th rowspan=\"2\" valign=\"top\">1</th>\n",
       "      <th>0</th>\n",
       "      <td>0.000000</td>\n",
       "      <td>0</td>\n",
       "      <td>250702</td>\n",
       "    </tr>\n",
       "    <tr>\n",
       "      <th>1</th>\n",
       "      <td>0.129745</td>\n",
       "      <td>23031</td>\n",
       "      <td>177510</td>\n",
       "    </tr>\n",
       "  </tbody>\n",
       "</table>\n",
       "</div>"
      ],
      "text/plain": [
       "                         conversion                 \n",
       "                               mean    sum     count\n",
       "treatment exposure visit                            \n",
       "0         0        0       0.000000      0   2016832\n",
       "                   1       0.050721   4063     80105\n",
       "1         0        0       0.000000      0  11055129\n",
       "                   1       0.034259  13680    399314\n",
       "          1        0       0.000000      0    250702\n",
       "                   1       0.129745  23031    177510"
      ]
     },
     "execution_count": 403,
     "metadata": {},
     "output_type": "execute_result"
    }
   ],
   "source": [
    "#Given the treatment, exposure and visits, how is the conversion?\n",
    "df.groupby(['treatment','exposure','visit']).agg({'conversion':['mean','sum','count']})"
   ]
  },
  {
   "cell_type": "markdown",
   "id": "inclusive-practice",
   "metadata": {},
   "source": [
    "From the table of above, it can be seen the following:\n",
    "+ There is no conversion if the users do not visit\n",
    "+ The percentage of users who were not given the treatment (nor fully exposed) and visited and converted is 5.07%.\n",
    "+ The percentage of users who were given the treatment but were not fully exposed and visited and converted is 3.42%\n",
    "+ The percentage of users who were given the treatment, fully exposed and visited and converted is 12.97%\n",
    "\n",
    "**It seems that even if the users receive the partial treatment and visit there is a drop in the percetage of conversion**\n",
    "\n",
    "In brief, there is a negative impact of the partial treatment on the results, either on visits and coversions. Furthermore, it seems that not even making the users visit with the partial treatment can yield higher conversion."
   ]
  },
  {
   "cell_type": "markdown",
   "id": "above-tiger",
   "metadata": {},
   "source": [
    "### **Statistical tests for the treatments on results**\n",
    "\n",
    "It is important to make a robust comparasion between the proportions of the results given the treatments. Therefore, statiscal tests are carried on.\n",
    "\n",
    "#### *Test between control and treatment group on conversion*"
   ]
  },
  {
   "cell_type": "code",
   "execution_count": 404,
   "id": "continued-hammer",
   "metadata": {},
   "outputs": [
    {
     "data": {
      "text/plain": [
       "6.983951422749621e-165"
      ]
     },
     "execution_count": 404,
     "metadata": {},
     "output_type": "execute_result"
    }
   ],
   "source": [
    "from statsmodels.stats.proportion import proportions_ztest\n",
    "\n",
    "proportions_ztest(count=table_conv.reset_index()[('conversion')]['sum'].loc[:1],\n",
    "                  nobs=table_conv.reset_index()[('conversion')]['count'].loc[:1])[1]"
   ]
  },
  {
   "cell_type": "markdown",
   "id": "advanced-drawing",
   "metadata": {},
   "source": [
    "#### *Test between control and exposure group on conversion*"
   ]
  },
  {
   "cell_type": "code",
   "execution_count": 405,
   "id": "encouraging-dover",
   "metadata": {},
   "outputs": [
    {
     "data": {
      "text/plain": [
       "0.0"
      ]
     },
     "execution_count": 405,
     "metadata": {},
     "output_type": "execute_result"
    }
   ],
   "source": [
    "#Get the two groups of data\n",
    "proportions_ztest(count=table_conv.reset_index()[('conversion')]['sum'].drop(1),\n",
    "                  nobs=table_conv.reset_index()[('conversion')]['count'].drop(1))[1]"
   ]
  },
  {
   "cell_type": "markdown",
   "id": "chemical-accident",
   "metadata": {},
   "source": [
    "#### *Test between control and treatment group on visit*"
   ]
  },
  {
   "cell_type": "code",
   "execution_count": 406,
   "id": "seeing-career",
   "metadata": {},
   "outputs": [
    {
     "data": {
      "text/plain": [
       "5.150161571101964e-128"
      ]
     },
     "execution_count": 406,
     "metadata": {},
     "output_type": "execute_result"
    }
   ],
   "source": [
    "#Get the two groups of data\n",
    "proportions_ztest(count=table_vis.reset_index()[('visit')]['sum'].loc[:1],\n",
    "                  nobs=table_vis.reset_index()[('visit')]['count'].loc[:1])[1]"
   ]
  },
  {
   "cell_type": "markdown",
   "id": "tested-dubai",
   "metadata": {},
   "source": [
    "#### *Test between control and exposure group on visit*"
   ]
  },
  {
   "cell_type": "code",
   "execution_count": 407,
   "id": "clear-venezuela",
   "metadata": {},
   "outputs": [
    {
     "data": {
      "text/plain": [
       "0.0"
      ]
     },
     "execution_count": 407,
     "metadata": {},
     "output_type": "execute_result"
    }
   ],
   "source": [
    "#Get the two groups of data\n",
    "proportions_ztest(count=table_vis.reset_index()[('visit')]['sum'].drop(1),\n",
    "                  nobs=table_vis.reset_index()[('visit')]['count'].drop(1))[1]"
   ]
  },
  {
   "cell_type": "markdown",
   "id": "public-screening",
   "metadata": {},
   "source": [
    "In summary:\n",
    "+ If a p-value smaller than 0.05 is considered for the statistical significance, then for all test results there is enough evidence that there is an statistical difference between the proportions.\n",
    "+ This is good and bad:\n",
    "    + It is good because the treatment fully exposed (*exposure*) has a positive impact on conversions and visits.\n",
    "    + It is bad because the treatment not fully exposed has a negative impact on conversions and visits.\n",
    "    \n",
    "+ This should be addressed by the company. Nevertheless, as scope of this notebooks stated, the analysis continues only for the conversion.\n",
    "\n",
    "+ **As well, the two treatments (treatment and exposed) can be considered different given their characteristic (partially and fully completed), thus this notebook continues only analyzing the data of the exposed users as a treatment to increase the conversion. From now on the exposure feature will be called treatment.**"
   ]
  },
  {
   "cell_type": "markdown",
   "id": "tough-mercury",
   "metadata": {},
   "source": [
    "### **Data preparation: data cleansing to have users only exposed and not exposed.**\n",
    "\n",
    "Given the analysis of the previous section, it is necessary to select only the data useful for the modeling"
   ]
  },
  {
   "cell_type": "code",
   "execution_count": 408,
   "id": "opponent-malta",
   "metadata": {},
   "outputs": [],
   "source": [
    "#Remove the users that were treated but not exposed\n",
    "users_to_remove = df[(df['treatment'] == 1 ) & (df['exposure']==0)]\n",
    "\n",
    "#New df based on the objective of the notebook\n",
    "df_ml = df.drop(users_to_remove.index).reset_index().drop(['index','treatment', 'visit'], axis = 1)"
   ]
  },
  {
   "cell_type": "code",
   "execution_count": 409,
   "id": "worst-lease",
   "metadata": {},
   "outputs": [
    {
     "name": "stdout",
     "output_type": "stream",
     "text": [
      "0    2498055\n",
      "1      27094\n",
      "Name: conversion, dtype: int64\n",
      "Normalized:\n",
      "0    0.98927\n",
      "1    0.01073\n",
      "Name: conversion, dtype: float64\n"
     ]
    },
    {
     "data": {
      "image/png": "[encoded data removed]",
      "text/plain": [
       "<Figure size 432x288 with 1 Axes>"
      ]
     },
     "metadata": {
      "needs_background": "light"
     },
     "output_type": "display_data"
    }
   ],
   "source": [
    "#Proportion of conversion\n",
    "sns.countplot(x='conversion', data=df_ml)\n",
    "print(df_ml['conversion'].value_counts())\n",
    "print(\"Normalized:\")\n",
    "print(df_ml['conversion'].value_counts(normalize = True))"
   ]
  },
  {
   "cell_type": "markdown",
   "id": "brown-parliament",
   "metadata": {},
   "source": [
    "*From now on Exposure is the same as Treatment.*"
   ]
  },
  {
   "cell_type": "markdown",
   "id": "spiritual-rogers",
   "metadata": {},
   "source": [
    "#### **Data scaling**\n",
    "\n",
    "This step is performed to make all the variables have the mean of zero and standard deviation of 1. Some models from sklearn require it because their computations are very sensitive to the range of data points. Specifically the models that work with gradient descent. Both models used in this notebook use gradient descent."
   ]
  },
  {
   "cell_type": "code",
   "execution_count": 410,
   "id": "terminal-neighbor",
   "metadata": {},
   "outputs": [],
   "source": [
    "from sklearn import preprocessing\n",
    "\n",
    "scaled = preprocessing.scale(df_ml.drop(['conversion','exposure'], axis = 1).values)\n",
    "df_sca = pd.DataFrame(data=scaled, columns = df_ml.drop(['conversion','exposure'], axis = 1).columns)\n",
    "df_exposure = df_ml['exposure']\n",
    "df_conversion = df_ml['conversion']"
   ]
  },
  {
   "cell_type": "markdown",
   "id": "common-platform",
   "metadata": {},
   "source": [
    "#### **Data split**\n",
    "\n",
    "The following step is peformed to let a portion of the data be untouched, it will be used if necessary."
   ]
  },
  {
   "cell_type": "code",
   "execution_count": 411,
   "id": "cognitive-expression",
   "metadata": {},
   "outputs": [
    {
     "name": "stdout",
     "output_type": "stream",
     "text": [
      "Train shape: (2272634, 12)\n",
      "Test shape: (252515, 12)\n"
     ]
    }
   ],
   "source": [
    "from sklearn.model_selection import train_test_split\n",
    "\n",
    "stratify_cols = pd.concat([df_exposure, df_conversion], axis=1)\n",
    "\n",
    "#Setting up testing and traning sets\n",
    "X_train, X_test, trmnt_train , trmnt_test, y_train, y_test = train_test_split(df_sca,\n",
    "                                                                             df_exposure,\n",
    "                                                                             df_conversion,\n",
    "                                                                             stratify = stratify_cols,\n",
    "                                                                             test_size = 0.1,\n",
    "                                                                             random_state=42)\n",
    "\n",
    "print(f\"Train shape: {X_train.shape}\")\n",
    "print(f\"Test shape: {X_test.shape}\")"
   ]
  },
  {
   "cell_type": "markdown",
   "id": "biological-spirit",
   "metadata": {},
   "source": [
    "<a id='section'></a>"
   ]
  },
  {
   "cell_type": "markdown",
   "id": "numerous-davis",
   "metadata": {},
   "source": [
    "## **Classical Modeling**\n",
    "\n",
    "In this section the profile of the users is used to create a model that can identify new users with high probabilty of conversion if targeted. This is called the classical modeling because it uses data labeled with the ground truth. The benefit of this type of modeling is that it helps you to avoid the users who will not convert if targeted. **Thus, the data to use is only the group of users who were targeted (\"exposed\").** This approach is also called Response model and Traditional Propensity model **[2,10]**."
   ]
  },
  {
   "cell_type": "markdown",
   "id": "emerging-superintendent",
   "metadata": {},
   "source": [
    "### **CM: Data preparation**\n",
    "\n",
    "The instances that were given the treatment are selected."
   ]
  },
  {
   "cell_type": "code",
   "execution_count": 412,
   "id": "young-action",
   "metadata": {},
   "outputs": [],
   "source": [
    "#Selection of instances only exposed\n",
    "y_traincml = y_train[trmnt_train==1]\n",
    "X_traincml = X_train[trmnt_train==1]"
   ]
  },
  {
   "cell_type": "markdown",
   "id": "fancy-small",
   "metadata": {},
   "source": [
    "Even that a vast number of instaces were removed the imbalancing remains. Note that from having 13M instances only around 400k have the characteristics needed for this stage."
   ]
  },
  {
   "cell_type": "code",
   "execution_count": 413,
   "id": "promising-planet",
   "metadata": {},
   "outputs": [
    {
     "name": "stdout",
     "output_type": "stream",
     "text": [
      "0    364663\n",
      "1     20728\n",
      "Name: conversion, dtype: int64\n",
      "Normalized:\n",
      "0    0.946216\n",
      "1    0.053784\n",
      "Name: conversion, dtype: float64\n"
     ]
    },
    {
     "data": {
      "image/png": "[encoded data removed]",
      "text/plain": [
       "<Figure size 432x288 with 1 Axes>"
      ]
     },
     "metadata": {
      "needs_background": "light"
     },
     "output_type": "display_data"
    }
   ],
   "source": [
    "#Imbalanced in the conversion variable\n",
    "sns.countplot(x='conversion', data=y_traincml.to_frame())\n",
    "print(y_traincml.value_counts())\n",
    "print(\"Normalized:\")\n",
    "print(y_traincml.value_counts(normalize = True))"
   ]
  },
  {
   "cell_type": "markdown",
   "id": "loving-group",
   "metadata": {},
   "source": [
    "### **CM: Data split**\n",
    "\n",
    "The data is divided in train and validation tests."
   ]
  },
  {
   "cell_type": "code",
   "execution_count": 414,
   "id": "bizarre-detector",
   "metadata": {},
   "outputs": [
    {
     "name": "stdout",
     "output_type": "stream",
     "text": [
      "Train instances: 269773, None_Conversion: 255282 and Conversion: 14491\n",
      "Val instances: 115618, None_Conversion: 109381 and Conversion: 6237\n"
     ]
    }
   ],
   "source": [
    "#Setting up testing and training sets\n",
    "X_train_cml, X_val_cml, y_train_cml, y_val_cml = train_test_split(X_traincml,y_traincml, test_size=0.3, random_state=42)\n",
    "\n",
    "print('Train instances: {}, None_Conversion: {} and Conversion: {}'.format(len(y_train_cml),\n",
    "                                                                         y_train_cml.value_counts()[0],\n",
    "                                                                         y_train_cml.value_counts()[1]))\n",
    "\n",
    "print('Val instances: {}, None_Conversion: {} and Conversion: {}'.format( len(y_val_cml), \n",
    "                                                                         y_val_cml.value_counts()[0],\n",
    "                                                                         y_val_cml.value_counts()[1]))"
   ]
  },
  {
   "cell_type": "markdown",
   "id": "daily-appeal",
   "metadata": {},
   "source": [
    "### **CM: Resampling**\n",
    "\n",
    "The proportion of the target variable is imbalanced, thus the over-sampling technique SMOTE is used to increase the number of conversion users to have half of the size of the non_conversion. Note that other ratio could be used."
   ]
  },
  {
   "cell_type": "code",
   "execution_count": 415,
   "id": "indoor-limit",
   "metadata": {},
   "outputs": [
    {
     "name": "stdout",
     "output_type": "stream",
     "text": [
      "0    255282\n",
      "1    255282\n",
      "Name: conversion, dtype: int64\n"
     ]
    }
   ],
   "source": [
    "#SMOTE\n",
    "from imblearn.over_sampling import SMOTE \n",
    "\n",
    "sm = SMOTE(random_state=42 )\n",
    "X_train_sm, y_train_sm = sm.fit_resample(X_train_cml, y_train_cml)\n",
    "\n",
    "print(y_train_sm.value_counts())"
   ]
  },
  {
   "cell_type": "markdown",
   "id": "respective-infrared",
   "metadata": {},
   "source": [
    "### **CM: Modeling**\n",
    "\n",
    "Three models are used, the first model is random (to have a baseline), the second is Logistic Regression and the third is XGBoost. As the target variable is imbalanced all the models are evaluated on precision and recall to focus on False Positives and False Negatives. An important note is that all of the the models are trained on balanced data to learn how to generalize and then evaluated on imbalanced  data."
   ]
  },
  {
   "cell_type": "code",
   "execution_count": 416,
   "id": "structural-missouri",
   "metadata": {},
   "outputs": [
    {
     "name": "stdout",
     "output_type": "stream",
     "text": [
      "Precision:  0.054207510699986194\n",
      "Recall:  0.5036075036075036\n"
     ]
    }
   ],
   "source": [
    "from sklearn.dummy import DummyClassifier\n",
    "import xgboost as xgb\n",
    "from sklearn.metrics import confusion_matrix, recall_score, precision_score\n",
    "from sklearn.linear_model import LogisticRegression\n",
    "\n",
    "#DummyClassifiert to predict only target 0\n",
    "dummy = DummyClassifier(strategy='uniform', random_state=42).fit(X_train_sm, y_train_sm)\n",
    "dummy_pred = dummy.predict(X_val_cml.values)\n",
    "\n",
    "print(\"Precision: \", precision_score(y_val_cml, dummy_pred))\n",
    "print(\"Recall: \", recall_score(y_val_cml, dummy_pred))"
   ]
  },
  {
   "cell_type": "code",
   "execution_count": 417,
   "id": "fewer-paradise",
   "metadata": {},
   "outputs": [
    {
     "name": "stdout",
     "output_type": "stream",
     "text": [
      "Precision:  0.19507329343394916\n",
      "Recall:  0.7211800545133878\n"
     ]
    }
   ],
   "source": [
    "#Logistic regression model\n",
    "logreg_sm = LogisticRegression().fit(X_train_sm.values, y_train_sm.values)\n",
    "logreg_sm_pred = logreg_sm.predict(X_val_cml.values)\n",
    "\n",
    "print(\"Precision: \", precision_score(y_val_cml, logreg_sm_pred))\n",
    "print(\"Recall: \", recall_score(y_val_cml, logreg_sm_pred))"
   ]
  },
  {
   "cell_type": "code",
   "execution_count": 418,
   "id": "global-flashing",
   "metadata": {},
   "outputs": [
    {
     "name": "stdout",
     "output_type": "stream",
     "text": [
      "Precision:  0.28466776723070575\n",
      "Recall:  0.4423601090267757\n"
     ]
    }
   ],
   "source": [
    "#Extreme Gradient Boosting\n",
    "xgb_sm = xgb.XGBClassifier(objective = 'binary:logistic', eval_metric = 'aucpr',  use_label_encoder = False).fit(X_train_sm.values,\n",
    "                                                                                      y_train_sm.values)\n",
    "xgb_sm_pred = xgb_sm.predict(X_val_cml.values)\n",
    "\n",
    "print(\"Precision: \", precision_score(y_val_cml, xgb_sm_pred))\n",
    "print(\"Recall: \", recall_score(y_val_cml, xgb_sm_pred))"
   ]
  },
  {
   "cell_type": "markdown",
   "id": "proof-natural",
   "metadata": {},
   "source": [
    "Surprisingly, the XGBoost did not provide the best results. Instead, the Logistic Regression model provided the best results. "
   ]
  },
  {
   "cell_type": "markdown",
   "id": "accepting-reducing",
   "metadata": {},
   "source": [
    "### **CM: Profit/Cost of the results**\n",
    "\n",
    "**Rather than only using technical metrics to know if the models are doing it well or not such as Precision and Recall, another method that takes into account the profits generated by the models is used. Similar to the method proposed by Provost. [3]** \n",
    "\n",
    "The model has four possible outcomes: True Positive (correctly targeted), False Positive (incorrectly targeted), True Negative (correctly not targeted) and False Negative (incorrectly not targeted). Based on the business it is necessary to define a benefit and cost for each one of them. Thus, lets assume the following: the cost of sending the campaing (or promotion) per user is 1 USD and if the user converts then the benefit is 50 USD. Another assumption, is that if the user is not targeted then the benefit is zero (which in real scenarios this may not happen but this is outside of the scope of this notebook).\n",
    "\n",
    "+ True Positives (TP): the benefit of targeting and conversion is 50-1 = 49 USD\n",
    "+ True Negatives (TN): the benefit of not targeting is 0 \n",
    "+ False Positives (FP): the cost of targeting when there is no conversion is 1 USD\n",
    "+ False Negatives (FN): the cost of not targeting to a user who would have been converted is 49 USD\n",
    "\n",
    "Therefore the profit equation is the following:\n",
    "+ $ profit = TP*49 - FP*1 - FN*49$\n",
    "\n",
    "**Note: the value of each outcome of the model can be changed based on the business information.** "
   ]
  },
  {
   "cell_type": "code",
   "execution_count": 419,
   "id": "alive-triangle",
   "metadata": {},
   "outputs": [],
   "source": [
    "values = {'tp':49, 'fp':1, 'fn':49}\n",
    "\n",
    "def value_eq(values, conf_matrix): \n",
    "    \"\"\"\n",
    "    Function that computes the value generated by the model\n",
    "    \n",
    "    Parameters:\n",
    "    -----------\n",
    "    values: dict with the values of the outcomes\n",
    "    conf_matrix: confusion matrix of the models\n",
    "    \"\"\"\n",
    "    tp = conf_matrix[1,1]\n",
    "    fp = conf_matrix[0,1]\n",
    "    fn = conf_matrix[1,0]\n",
    "    \n",
    "    return tp*values['tp'] - fp*values['fp'] - fn*values['fn']"
   ]
  },
  {
   "cell_type": "markdown",
   "id": "possible-namibia",
   "metadata": {},
   "source": [
    "Computation of the profits"
   ]
  },
  {
   "cell_type": "code",
   "execution_count": 420,
   "id": "appreciated-refrigerator",
   "metadata": {},
   "outputs": [
    {
     "name": "stdout",
     "output_type": "stream",
     "text": [
      "The profit in USD with the Random model is $ -52,598.00\n",
      "The profit in USD with the Logistic Regression model is $ 116,631.00\n",
      "The profit in USD with XGBoost model is $ -42,164.00\n"
     ]
    }
   ],
   "source": [
    "#Confusion Matrix of Random Pred\n",
    "cm_rand_sm = confusion_matrix(y_val_cml, dummy_pred)\n",
    "\n",
    "#Confusion Matrix of Logistic Regression\n",
    "cm_logreg_sm = confusion_matrix(y_val_cml, logreg_sm_pred)\n",
    "\n",
    "#Confusion Matrix of XGB\n",
    "cm_xgb_sm = confusion_matrix(y_val_cml, xgb_sm_pred)\n",
    "\n",
    "#Print the benefit from both models\n",
    "print(f'The profit in USD with the Random model is $ {value_eq(values,cm_rand_sm):,.2f}')\n",
    "print(f'The profit in USD with the Logistic Regression model is $ {value_eq(values,cm_logreg_sm):,.2f}')\n",
    "print(f'The profit in USD with XGBoost model is $ {value_eq(values,cm_xgb_sm):,.2f}')"
   ]
  },
  {
   "cell_type": "markdown",
   "id": "charitable-premises",
   "metadata": {},
   "source": [
    "As expected the model with the highest profit is the Logisit Regression because it has lesser False Postive and False Negative errors than the other two models."
   ]
  },
  {
   "cell_type": "markdown",
   "id": "essential-burke",
   "metadata": {},
   "source": [
    "### **CM: Profit/Cost curve**\n",
    "\n",
    "Another technique to measure the performance of the models is using a profit/cost curve. With this technique the users are sorted by the probability of conversion provided the models and then they are compared to the ground truth (whether they bought or not). Consecutively, the cummulative profit is calculated. This technique is very helpful when the desire is to get the highest profit but the budget for targeting is not enough to target all of the users. In this sense, it is possible to target the k users with highest probability of conversion. **[3]**"
   ]
  },
  {
   "cell_type": "code",
   "execution_count": 421,
   "id": "victorian-medline",
   "metadata": {},
   "outputs": [],
   "source": [
    "def outcome_value(y_pred,y_test,values):\n",
    "    \"\"\"\n",
    "    Returns the value of the outcome\n",
    "    \n",
    "    Parameters:\n",
    "    -----------\n",
    "    y_pred: classes estimated by the classifier\n",
    "    y_test: actual classes\n",
    "    value: value of the outcome\n",
    "    \"\"\"\n",
    "    if y_pred == 1 and y_test == 1:\n",
    "        return values['tp']\n",
    "    if y_pred == 1 and y_test==0:\n",
    "        return -values['fp']\n",
    "    elif y_pred== 0 and y_test==1:\n",
    "        return -values['fn']\n",
    "    else:\n",
    "        return 0\n",
    "    \n",
    "def compute_value_df(y_proba,y_test,values, best_thres= 0.5):\n",
    "    \"\"\"\n",
    "    Generates a df with the cummulative cost of the errors\n",
    "    \n",
    "    Parameters:\n",
    "    ------------\n",
    "    y_proba: array with the probabilities of X_test given by an estimator\n",
    "    y_test: array with the actual values of y\n",
    "    best_thres: int best threshold to define a binary outcome\n",
    "    values: dict with the value of the outcomes\n",
    "    \"\"\"\n",
    "    #Build the df for the cost curve\n",
    "    df_value_curve = pd.DataFrame({'y_proba':y_proba, \n",
    "                                         'y_pred': np.where(y_proba > best_thres,1,0),\n",
    "                                         'y_test':y_test})\n",
    "\n",
    "    #Sort df by probability\n",
    "    df_value_curve = df_value_curve.sort_values(by='y_proba'\n",
    "                                                            , ascending = False).reset_index().drop('index', axis =1)\n",
    "\n",
    "    #Compute the value of each outcome\n",
    "    df_value_curve['value'] = df_value_curve.apply(lambda x: outcome_value(x.y_pred, x.y_test,values), axis=1)\n",
    "\n",
    "    #Compute the cummulative sum of the outcomes\n",
    "    df_value_curve['cum_value'] = df_value_curve['value'].cumsum(axis=0)\n",
    "    \n",
    "    return df_value_curve"
   ]
  },
  {
   "cell_type": "markdown",
   "id": "according-setup",
   "metadata": {},
   "source": [
    "Calculation of the cummulative profit "
   ]
  },
  {
   "cell_type": "code",
   "execution_count": 422,
   "id": "sonic-prince",
   "metadata": {},
   "outputs": [],
   "source": [
    "#random model \n",
    "dummy_proba = dummy.predict_proba(X_val_cml.values)[:,1]\n",
    "df_dummy_val_curve = compute_value_df(dummy_proba,y_val_cml,values)\n",
    "\n",
    "#Get the probabilities for each instance based on the estimator\n",
    "logreg_y_proba = logreg_sm.predict_proba(X_val_cml.values)[:,1]\n",
    "df_logreg_val_curve = compute_value_df(logreg_y_proba,y_val_cml,values)\n",
    "\n",
    "#Get the probabilities for each instance based on the estimator\n",
    "xgb_y_proba = xgb_sm.predict_proba(X_val_cml.values)[:,1]\n",
    "df_xgboost_val_curve = compute_value_df(xgb_y_proba,y_val_cml,values)"
   ]
  },
  {
   "cell_type": "markdown",
   "id": "infinite-benefit",
   "metadata": {},
   "source": [
    "Plot the profit/cost curves for all the models"
   ]
  },
  {
   "cell_type": "code",
   "execution_count": 423,
   "id": "serious-single",
   "metadata": {},
   "outputs": [
    {
     "data": {
      "image/png": "[encoded data removed]",
      "text/plain": [
       "<Figure size 720x432 with 1 Axes>"
      ]
     },
     "metadata": {
      "needs_background": "light"
     },
     "output_type": "display_data"
    }
   ],
   "source": [
    "_, axes = plt.subplots(figsize=(10, 6))\n",
    "\n",
    "instances=np.arange(0, 1, (1/len(y_val_cml)))\n",
    "\n",
    "axes.set_title(\"Profit Curve\")\n",
    "axes.set_xlabel(\"Proportion of test instances\")\n",
    "axes.set_ylabel(\"Profit $\")\n",
    "axes.grid(b=True)\n",
    "\n",
    "axes.plot(instances, df_dummy_val_curve['cum_value'].values, '-', color=\"red\",label=\"Random Classifier\")\n",
    "axes.plot(instances, df_logreg_val_curve['cum_value'].values, '-', color=\"purple\",label=\"Logistic Regression\")\n",
    "axes.plot(instances, df_xgboost_val_curve['cum_value'].values, '-', color=\"green\",label=\"XGBoost\")\n",
    "\n",
    "axes.legend(loc=\"best\")\n",
    "axes.set_xlim(0,1)\n",
    "#axes.set_ylim(0,1)\n",
    "plt.show()"
   ]
  },
  {
   "cell_type": "markdown",
   "id": "random-corner",
   "metadata": {},
   "source": [
    "The graph above shows the following:\n",
    "+ The x axis is the proportion of data used by the company to send the targeted marketing\n",
    "+ The y axis is the benefit obtained for targeting the users\n",
    "+ **The curves show the cummulative profit of users that were sorted by their probability of being converted. In other words, the first users targeted are the ones with highest probability of being converted**\n",
    "+ In order to know the benefit, a thershold for the probability is defined to decide if the user is targeted or not. In this case a threshold of 0.5 was used to determine to target or not, yet this value can be tunned\n",
    "\n",
    "Regarding the models:\n",
    "+ **The Logistic Regression model has a maximum of profit close to 200,000 USD**\n",
    "+ The XGBoost model has a maximum around 100,000 USD\n",
    "+ The random model never generates a benefit\n",
    "\n",
    "As well the graph implies the following:\n",
    "+ If 0.2 proportion of users were used to send the marketing campaing, then the best model to use would be Logistic Regression.\n",
    "+ **However, if all the users were used to send the marketing campaing, based on the model results, then the best model to use would be Logisict Regression as well, because after using the 0.8 proportion of users the benefit would not be decreasing dramatically such as for the Random and XGBoost models.**\n",
    "+ The curves decrease when they fail to detect correctly the users that will convert.\n",
    "+ The ideal curve would be the one that it gets to the maximum and after that it does not decreases, because it would mean that it correctly found all the users to be converted and would not be losing money by not targeting users that could be converted if targeted."
   ]
  },
  {
   "cell_type": "markdown",
   "id": "infrared-investor",
   "metadata": {},
   "source": [
    "### **CM: Summary**\n",
    "\n",
    "+ This section elaborates on the classical modeling approach to identify users that most likely will convert if a targeted campaing is sent. The procedure followed was to scale and resample the data, generate three models and finally compare the models using a profit/cost technique. Other techniques to improve the model results such as outlier removal, feature selection and hyperparameter tunning were not used due to scope of the analysis. The same case for the evaluation with cross-validation. \n",
    "+ **However, this approach has a pitfall. How do we know if a user who received the campaing could have been converted if the user hadn't received it? If this is possible, then the model is causing the company to lose money by targeting users that would convert without being targeted. To address this pitfall the Uplift modeling should be used instead.**"
   ]
  },
  {
   "cell_type": "markdown",
   "id": "sized-murder",
   "metadata": {},
   "source": [
    "## **Uplift modeling**\n",
    "\n",
    "This technique combines Machine Learning with causal inference to determine the impact of the treatment (or an action) on the target variable. In other words, it helps to know if its necessary to treat the user or not. To be clearer, the method is explained with the following table **[4]**:\n",
    "\n",
    "\n",
    "|                    | Not buy if not treated | Buy if not treated |\n",
    "|--------------------|------------------------|--------------------|\n",
    "| **Buy if treated**     | Persuadables           | Sure things        |\n",
    "|**Not buy if treated** | Lost Causes            | Sleeping dogs      |\n",
    "\n",
    "The possible outcomes are four:\n",
    "+ The customers that will buy only if treated: persuadables\n",
    "+ The customers that will buy no matter if treated or not treated: sure things\n",
    "+ The customers that will not buy no matter if treated or not treated: lost causes\n",
    "+ The customers that will buy only if not treated: sleeping dogs\n",
    "\n",
    "The classical modeling only avoids the lost causes while the uplift modeling avoids the sure things, lost causes and sleeping dogs. **Specifically, uplift modeling focuses on the persuadables customers.**\n"
   ]
  },
  {
   "cell_type": "markdown",
   "id": "varying-newport",
   "metadata": {},
   "source": [
    "### **UM: Brief explanation**\n",
    "\n",
    "*The key ideas to take are **[5]** :*\n",
    "+ The main concept behind the model is **causal inference** in which the aim is to calculate the difference between the response of a customer given that she received the treatment and response given that she did not receive the treatment . \n",
    "+ Unfortunately, to measure this is impossible because a customer can not receive and not receive the treatment, there is no ground truth. Therefore, an estimation is calculated.\n",
    "+ The estimation is nothing more that the probability of a customer responding given the treatment minus the probability of the customer responding given no treatment. And the probabilities are provided by the models.\n",
    "+ **This difference is the estimation of the Uplift, also known as Conditional Average Treatment.**\n",
    "+ The largest the uplift the better to treat the customer.\n",
    "+ The estimation has the assumption that the treatment is applied randomly, thus independent of the potential results. \n",
    "\n",
    "*And regarding the modeling:*\n",
    "+ There are different types of models such as the Direct and Meta-Learners.\n",
    "    + The Direct models aim to predict the uplift, such as Uplift trees.\n",
    "    + The Meta-Learners are a combination of models and data processing techniques to estimate the uplift, such as Class Transformation and Two models.\n",
    "+ Each of the model has their own pros, cons and assumptions. For this notebook the models used are:\n",
    "    + Single model and Two models.\n",
    "+ They are selected because they are easily interpretable. \n",
    "+ **The single model:**\n",
    "    + A usual model such as Logistic Regression or XGBoost is trained with train data and the feature indicating if the treatment was received or not. The results are computed by estimating the probability of response twice. The first time by using the test set and the treatment indicator as 1, and the second time by using the treatment indicator as 0. Lastly, the two probabilities given by the model are substracted to get the uplift **[6]**.\n",
    "+ **The Two models:**\n",
    "    +  This is similar as the single but it trains two independent models, the first model is trained with the treated customers and the second model is trained with the non-treated customers. In the end, the test set is used in both models and the results are substracted to get the uplift **[7]**."
   ]
  },
  {
   "cell_type": "markdown",
   "id": "intimate-pencil",
   "metadata": {},
   "source": [
    "### **UM: Data split**\n",
    "\n",
    "The data is split in two train and test, but it also is necessary to split the treatment variable. "
   ]
  },
  {
   "cell_type": "code",
   "execution_count": 424,
   "id": "cooperative-horizontal",
   "metadata": {},
   "outputs": [
    {
     "name": "stdout",
     "output_type": "stream",
     "text": [
      "Train shape: (1590843, 12)\n",
      "Validation shape: (681791, 12)\n"
     ]
    }
   ],
   "source": [
    "stratify_cols = pd.concat([trmnt_train, y_train], axis=1)\n",
    "\n",
    "#Setting up testing and traning sets\n",
    "X_trainup, X_valup, trmnt_trainup , trmnt_valup , y_trainup , y_valup = train_test_split(X_train,\n",
    "                                                                                         trmnt_train,\n",
    "                                                                                         y_train,\n",
    "                                                                                         stratify = stratify_cols,\n",
    "                                                                                         test_size = 0.3,\n",
    "                                                                                         random_state=42)\n",
    "\n",
    "print(f\"Train shape: {X_trainup.shape}\")\n",
    "print(f\"Validation shape: {X_valup.shape}\")"
   ]
  },
  {
   "cell_type": "markdown",
   "id": "documented-sister",
   "metadata": {},
   "source": [
    "### **UM: Resampling**\n",
    "\n",
    "The amount of data is huge, over 1 million of instances, more than the used for the Classical modeling because here the model is using the targeted and not targeted users. Nevertheless, the imbalance is notorious. Therefore, the mayority class is sub-sampled to have the same number of instances as the minority class. Recall that the models work better if they are trained with balanced classes. Notwithstanding, in the case of uplift the models the variable that is balanced is the treatment instead of the target. Because some of the models work with the assumption that the control and treatment groups have the same size. But it would be interersting to try also balancing the target variable."
   ]
  },
  {
   "cell_type": "code",
   "execution_count": 425,
   "id": "plastic-meeting",
   "metadata": {},
   "outputs": [
    {
     "data": {
      "text/plain": [
       "<AxesSubplot:xlabel='exposure', ylabel='count'>"
      ]
     },
     "execution_count": 425,
     "metadata": {},
     "output_type": "execute_result"
    },
    {
     "data": {
      "image/png": "[encoded data removed]",
      "text/plain": [
       "<Figure size 432x288 with 1 Axes>"
      ]
     },
     "metadata": {
      "needs_background": "light"
     },
     "output_type": "display_data"
    }
   ],
   "source": [
    "#Imbalanced in the treatment variableo\n",
    "sns.countplot(x='exposure', data=trmnt_trainup.to_frame())"
   ]
  },
  {
   "cell_type": "markdown",
   "id": "fifth-broadway",
   "metadata": {},
   "source": [
    "This could be also be done with over-sampling the minority class, but as the instances are over a million, it requires more comptuer resources and time to make the computations. "
   ]
  },
  {
   "cell_type": "code",
   "execution_count": 426,
   "id": "scenic-attack",
   "metadata": {},
   "outputs": [],
   "source": [
    "#Subsampling the mayority class (could be done with over-sampling the minority class but it consumes too much resources)\n",
    "tmp = X_trainup.copy()\n",
    "tmp.insert(len(tmp.columns)-1, 'conversion', y_trainup.values)\n",
    "tmp.insert(len(tmp.columns)-1, 'exposure', trmnt_trainup.values)\n",
    "\n",
    "#separte df based on the treatment\n",
    "tmp1 = tmp[tmp['exposure']==1]\n",
    "tmp2 = tmp[tmp['exposure']==0]\n",
    "\n",
    "#Subsampling\n",
    "tmp2 = tmp2.sample(n=len(tmp1))\n",
    "tmp3 = pd.concat([tmp1,tmp2], axis=0)\n",
    "\n",
    "#Updating the variables\n",
    "X_trainup_sub = tmp3.drop(['exposure','conversion'], axis = 1)\n",
    "trmnt_trainup_sub = tmp3['exposure']\n",
    "y_trainup_sub = tmp3['conversion']"
   ]
  },
  {
   "cell_type": "markdown",
   "id": "varying-customer",
   "metadata": {},
   "source": [
    "Plot the balance treatment feature"
   ]
  },
  {
   "cell_type": "code",
   "execution_count": 427,
   "id": "vulnerable-timing",
   "metadata": {},
   "outputs": [
    {
     "data": {
      "text/plain": [
       "<AxesSubplot:xlabel='exposure', ylabel='count'>"
      ]
     },
     "execution_count": 427,
     "metadata": {},
     "output_type": "execute_result"
    },
    {
     "data": {
      "image/png": "[encoded data removed]",
      "text/plain": [
       "<Figure size 432x288 with 1 Axes>"
      ]
     },
     "metadata": {
      "needs_background": "light"
     },
     "output_type": "display_data"
    }
   ],
   "source": [
    "#Checking the umbalance\n",
    "sns.countplot(x='exposure', data=trmnt_trainup_sub.to_frame())"
   ]
  },
  {
   "cell_type": "markdown",
   "id": "yellow-intermediate",
   "metadata": {},
   "source": [
    "### **UM: Modeling**\n",
    "\n",
    "In the following lines of code two types of uplift models are used, the single model and two models. These models are from the scikit package for uplift."
   ]
  },
  {
   "cell_type": "code",
   "execution_count": 428,
   "id": "variable-track",
   "metadata": {},
   "outputs": [],
   "source": [
    "from sklift.models import SoloModel, TwoModels\n",
    "\n",
    "estimator = LogisticRegression()\n",
    "\n",
    "#Single Model\n",
    "sm = SoloModel(estimator)\n",
    "sm = sm.fit(X_trainup_sub, y_trainup_sub, trmnt_trainup_sub)\n",
    "uplift_sm = sm.predict(X_valup)\n",
    "\n",
    "#Two Independent models\n",
    "tm = TwoModels(estimator_trmnt= LogisticRegression(), estimator_ctrl= LogisticRegression(), method='vanilla')\n",
    "tm = tm.fit(X_trainup_sub, y_trainup_sub, trmnt_trainup_sub)\n",
    "uplift_tm = tm.predict(X_valup)"
   ]
  },
  {
   "cell_type": "markdown",
   "id": "ecological-palestinian",
   "metadata": {},
   "source": [
    "### **UM: Cumulative uplift curve**\n",
    "One of the principal methods to assess the performance of the uplift models is using the cumulative gain plot. The plot is similar to the profit/cost curve in the sense that the instances are sorted based on the results of the models. But they are different in the vertical axis, one shows the cumulative profit and the other the cumulative uplift. The following functions are used to compute the cumulative uplfit based on **[8,9]**. "
   ]
  },
  {
   "cell_type": "code",
   "execution_count": 429,
   "id": "alert-treasure",
   "metadata": {},
   "outputs": [],
   "source": [
    "def get_tc(treatment,target):\n",
    "    \"\"\"\n",
    "    Function that returns helps to select the users that were in the control group and have a positive response\n",
    "    \n",
    "    Parameters:\n",
    "    ------------\n",
    "    treatment = treatment\n",
    "    target = the response \n",
    "    \"\"\"    \n",
    "    if not target:\n",
    "        return 0\n",
    "    elif not treatment:\n",
    "        return 1\n",
    "    else:\n",
    "        return 0\n",
    "    \n",
    "def compute_gain(uplift, treatment, y, rnd = False):\n",
    "    \"\"\"\n",
    "    Function that computes the cumulative gains in a dataframe\n",
    "    \n",
    "    Parameters:\n",
    "    ------------\n",
    "    uplift = arr with the predicted uplifts by the models\n",
    "    trtment = arr with the treatment indicator (test)\n",
    "    y = arr target variable (test)\n",
    "    rnd = bool indicating if random selection\n",
    "    \"\"\"\n",
    "    e = 0.0000000000001 # to avoid divisions by zero\n",
    "    df = pd.DataFrame({'uplift':uplift, 'treatment':treatment.values, 'target': y.values})\n",
    "    \n",
    "    if rnd:\n",
    "        df = df.sample(frac=1).reset_index().drop('index', axis =1)\n",
    "    else:\n",
    "        df = df.sort_values(by='uplift', ascending = False).reset_index().drop('index', axis =1)\n",
    "    \n",
    "    #Compute the cumulative treatment size\n",
    "    df['cum_trs'] = df['treatment'].cumsum(axis=0)\n",
    "\n",
    "    #Compute the cumulative control size\n",
    "    df['cum_crs'] = (df.index+1) - df['treatment'].cumsum(axis=0)\n",
    "    \n",
    "    #Compute target given treatment\n",
    "    df['ttr'] = df['treatment'] * df['target']\n",
    "    \n",
    "    #Compute target given control\n",
    "    df['tcr'] = df.apply(lambda x: get_tc(x.treatment, x.target), axis=1)\n",
    "    \n",
    "    #Compute cumulative target given treatment\n",
    "    df['cum_ttr'] = df['ttr'].cumsum(axis=0)\n",
    "    \n",
    "    #Compute cumulative target given control\n",
    "    df['cum_tcr'] = df['tcr'].cumsum(axis=0)\n",
    "    \n",
    "    #Compute cumulative gain\n",
    "    df['cum_gain'] = (df['cum_ttr']/(df['cum_trs']+e)) - (df['cum_tcr']/(df['cum_crs']+e))\n",
    "    \n",
    "    #Compute cumulative gain\n",
    "    df['cum_gain2'] = df['cum_gain']*(df['cum_trs']+df['cum_crs']+e)/ len(df)\n",
    "    \n",
    "    return df"
   ]
  },
  {
   "cell_type": "markdown",
   "id": "empirical-crowd",
   "metadata": {},
   "source": [
    "The results of the modeling in the test set are used to compute the cumulative uplift "
   ]
  },
  {
   "cell_type": "code",
   "execution_count": 430,
   "id": "humanitarian-privacy",
   "metadata": {},
   "outputs": [],
   "source": [
    "#Compute gain for the three models\n",
    "sm_gain = compute_gain(uplift_sm,trmnt_valup, y_valup)\n",
    "tm_gain = compute_gain(uplift_tm,trmnt_valup, y_valup)\n",
    "rnd_gain = compute_gain(uplift_tm,trmnt_valup, y_valup, True)"
   ]
  },
  {
   "cell_type": "markdown",
   "id": "negative-liability",
   "metadata": {},
   "source": [
    "The results are plotted"
   ]
  },
  {
   "cell_type": "code",
   "execution_count": 431,
   "id": "pharmaceutical-january",
   "metadata": {},
   "outputs": [
    {
     "data": {
      "image/png": "[encoded data removed]",
      "text/plain": [
       "<Figure size 1080x504 with 1 Axes>"
      ]
     },
     "metadata": {
      "needs_background": "light"
     },
     "output_type": "display_data"
    }
   ],
   "source": [
    "#Plot the results\n",
    "_, axes = plt.subplots(figsize=(15, 7))\n",
    "\n",
    "instances=np.arange(0, 1, (1/len(y_valup)))\n",
    "\n",
    "axes.set_title(\"Uplift Curve\")\n",
    "axes.set_xlabel(\"Proportion of users targeted\")\n",
    "axes.set_ylabel(\"Cumulative Uplift\")\n",
    "axes.grid(b=True)\n",
    "axes.plot(instances, sm_gain['cum_gain2'].values, '-', color=\"r\",label=\"Single model\")\n",
    "axes.plot(instances, tm_gain['cum_gain2'].values, '-', color=\"b\",label=\"Two models\")\n",
    "axes.plot(instances, rnd_gain['cum_gain2'].values, '-', color=\"k\",label=\"Random model\")\n",
    "axes.legend(loc=\"best\")\n",
    "#axes.set_xlim(0,0.5)\n",
    "#axes.set_ylim(0,0.5)\n",
    "plt.show()"
   ]
  },
  {
   "cell_type": "markdown",
   "id": "african-borough",
   "metadata": {},
   "source": [
    "The graph above shows the following:\n",
    "+ The x axis is the proportion of data used by the company to send the targeted marketing.\n",
    "+ The y axis is the uplift obtained for targeting the users.\n",
    "+ **The curves show the cummulative profit of users that were sorted by their probability of being converted. In other words, the first users targeted are the ones with highest uplift.**\n",
    "\n",
    "Regarding the models:\n",
    "+ All models get eventually to the 5% of uplift after targeting all the users.\n",
    "+ **The objective of the curves is to show that if only 0.4 of the users are targeted, then it would be better to use the results of the Two models because it reaches almost 4% of the uplift, while the random selection is requires almost twice of the instances to reach it.** The proportion of users can be changed based on the needs of the company.\n",
    "+ The results of the single and two models have similar behaviour, but the two models still provide better results from 0.2 to 0.8 proportion of users.\n",
    "\n",
    "As well the graph implies the following:\n",
    "+ The first part of the curve are the users are the persudables, followed by the sure things and lost causes, and finally the sleeping dogs. \n",
    "+ The ideal curve is the one that with the first amount of instances reaches the maximum uplift, then the curve keeps the same level of uplift due to the sure things and lost causes, and finally the curve will decrease at some point due to the sleeping dogs."
   ]
  },
  {
   "cell_type": "markdown",
   "id": "cordless-cosmetic",
   "metadata": {},
   "source": [
    "### **UM: Summary**\n",
    "\n",
    "+ This section elaborates on the uplift modeling approach to identify persuadables users. The procedure followed was to scale and resample the data, generate 3 models and finally compare the models using a Cumulative uplift curve. Other techniques to improve the model results such as outlier removal, feature selection and hyperparameter tunning were not used due to scope of the analysis. The same case for the evaluation with cross-validation. \n",
    "+ **A disadvatage of this approach is that the ground truth is not know because a customer can not receive and not receive a treatment (promotion). Thus, the uplift model has no error to be compared such as Classical modeling, meaning that the outputs generated by both approached cannot be compared with the same metrics. [11]**\n",
    "+ Nevertheless, there are some research articles proposing different metrics to assess both models in terms of profit and costs. But this is not in the scope of this notebook. \n"
   ]
  },
  {
   "cell_type": "markdown",
   "id": "anticipated-harbor",
   "metadata": {},
   "source": [
    "## **Conclusion_**\n",
    "\n",
    "This notebook elaborated two approaches for Targeted Marketing. It started by selecting the information that is worth used by the models. Then, the first approach called **\"Classical modeling\"** was presented, which takes only the targeted users (from a randomize experiment for targeted marketing) to train the models. Then, the models were used to determine the users that if targeted will convert. Also, the technique \"Profit/Cost curve\" was used to compare the performance of the models in terms of money. In the following part of the notebook the **\"Uplift modeling\"** was shown. The models were trained with the results of a randomized experiment for targeted marketing. Then, the results were used to determine the users that if targeted  will provide the highest uplift. Finally, a the Cumulative Uplift curve was used to compare the results of the models.\n",
    "\n",
    "The downside of the Classical modeling approach it only avoids the lost causes. On the other side, the Uplift modeling is trained to identify firstly the persuadable users. **Both approaches will provide benefit to the companies that used them instead of a randomized targeting, the only difference is that the Uplift modeling will reduce the cost of targeting users that do not need it and the losses for customers that will buy if not targeted.**"
   ]
  },
  {
   "cell_type": "markdown",
   "id": "alternate-punch",
   "metadata": {},
   "source": [
    "## **To try**\n",
    "This notenbook provided an overview of the models and how to use them in an easly manner. Yet there still plenty of room for improvement such as:\n",
    "+ More Feature Engineering (outlier and correlation removal, correction of the skeness of the features distributions)\n",
    "+ Hyperparameter tunning\n",
    "+ Validation with Cross-validation \n",
    "+ Check of learning and over-fitting curves\n",
    "+ Using more Machine Learning models\n",
    "+ Try metrics from literature to compare the performance between the Classical and Uplift modeling with the hold-out data generated at the beginning of the notebook\n",
    "+ Analyse the most important features\n",
    "+ Use other packages causalML (from Uber) and pylift."
   ]
  },
  {
   "cell_type": "markdown",
   "id": "automatic-jurisdiction",
   "metadata": {},
   "source": [
    "## **References**\n",
    "\n",
    "+ [1] The Criteo AI Lab, \"Uplift Modeling , Marketing Campaign Data\", https://www.kaggle.com/arashnic/uplift-modeling\n",
    "+ [2] Scikit-uplift,\"Uplift vs other models\", https://www.uplift-modeling.com/en/latest/user_guide/introduction/comparison.html\n",
    "+ [3] Provost,F and Fawcett, Tom. (2013). Data science-what you need to know about analytic-thinking and decision-making. USA: O'RELLY.\n",
    "+ [4] Kane, K., Lo, V. S., und Zheng. J., 2014. Mining for the Truly Responsive Customers and Prospects Using True-Lift Modeling: Comparison of New and Existing Methods. Journal of Marketing Analytics, 82(4), pp. 218-238.\n",
    "+ [5] Scikit-uplift, \"Causal Inference: Basics\", https://www.uplift-modeling.com/en/latest/user_guide/introduction/cate.html\n",
    "+ [6] Scikit-uplift, \"Single model approaches\", https://www.uplift-modeling.com/en/latest/user_guide/models/solo_model.html\n",
    "+ [7] Scikit-uplift, \"Two models approaches\",https://www.uplift-modeling.com/en/latest/user_guide/models/two_models.html\n",
    "+ [8] AMBIATA,\"How uplift modeling works\", https://ambiata.com/blog/2020-07-07-uplift-modeling/\n",
    "+ [9] Susan Currie Sivek Ph.D, \"Beyond Churn: An Introduction to Uplift Modeling\", https://towardsdatascience.com/beyond-churn-an-introduction-to-uplift-modeling-d1d9af7be\n",
    "+ [10] Shelbey Temple, \"Uplift Modeling: A Quick Introduction\", https://towardsdatascience.com/a-quick-uplift-modeling-introduction-6e14de32bfe0\n",
    "+ [11] The Data Lab,\"Understanding Customer Behaviour Using Uplift Modelling\", https://www.thedatalab.com/tech-blog/understanding-customer-behaviour-using-uplift-modelling/\n",
    "+ [12] Floris Devriendt, Jeroen Berrevoets, Wouter Verbeke, Why you should stop predicting customer churn and start using uplift models, Information Sciences (2019), doi: https://doi.org/10.1016/j.ins.2019.12.075"
   ]
  },
  {
   "cell_type": "code",
   "execution_count": null,
   "id": "strange-joint",
   "metadata": {},
   "outputs": [],
   "source": []
  }
 ],
 "metadata": {
  "kernelspec": {
   "display_name": "Python 3",
   "language": "python",
   "name": "python3"
  },
  "language_info": {
   "codemirror_mode": {
    "name": "ipython",
    "version": 3
   },
   "file_extension": ".py",
   "mimetype": "text/x-python",
   "name": "python",
   "nbconvert_exporter": "python",
   "pygments_lexer": "ipython3",
   "version": "3.7.10"
  }
 },
 "nbformat": 4,
 "nbformat_minor": 5
}
